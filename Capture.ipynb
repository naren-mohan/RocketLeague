{
 "cells": [
  {
   "cell_type": "code",
   "execution_count": 36,
   "metadata": {},
   "outputs": [],
   "source": [
    "import time\n",
    "import win32gui, win32ui, win32con, win32api\n",
    "import os\n",
    "import pylink\n",
    "from PIL import Image"
   ]
  },
  {
   "cell_type": "code",
   "execution_count": 44,
   "metadata": {},
   "outputs": [],
   "source": [
    "w, h = (1920, 1080)\n",
    "hwnd = 0 \n",
    "hwndDC = win32gui.GetWindowDC(hwnd)\n",
    "mfcDC = win32ui.CreateDCFromHandle(hwndDC)\n",
    "\n",
    "saveDC = mfcDC.CreateCompatibleDC()\n",
    "saveBitMap = win32ui.CreateBitmap()\n",
    "saveBitMap.CreateCompatibleBitmap(mfcDC, w, h)"
   ]
  },
  {
   "cell_type": "code",
   "execution_count": 41,
   "metadata": {},
   "outputs": [],
   "source": []
  },
  {
   "cell_type": "code",
   "execution_count": 40,
   "metadata": {},
   "outputs": [
    {
     "data": {
      "text/plain": [
       "{'bmType': 0,\n",
       " 'bmWidth': 1920,\n",
       " 'bmHeight': 1080,\n",
       " 'bmWidthBytes': 7680,\n",
       " 'bmPlanes': 1,\n",
       " 'bmBitsPixel': 32}"
      ]
     },
     "execution_count": 40,
     "metadata": {},
     "output_type": "execute_result"
    }
   ],
   "source": [
    "bmpinfo"
   ]
  },
  {
   "cell_type": "code",
   "execution_count": 54,
   "metadata": {},
   "outputs": [
    {
     "name": "stdout",
     "output_type": "stream",
     "text": [
      "b'<<<\\xff<<<\\xff<<<\\xff<<<\\xff<<<\\xff'\n"
     ]
    }
   ],
   "source": [
    "hwndDC = win32gui.GetWindowDC(hwnd)\n",
    "mfcDC = win32ui.CreateDCFromHandle(hwndDC)\n",
    "saveDC = mfcDC.CreateCompatibleDC()\n",
    "saveBitMap = win32ui.CreateBitmap()\n",
    "saveBitMap.CreateCompatibleBitmap(mfcDC,w, h)\n",
    "saveDC.SelectObject(saveBitMap)\n",
    "saveDC.BitBlt((0, 0), (w, h) , mfcDC, (0, 0), win32con.SRCCOPY)\n",
    "# Returns the bitmap bits\n",
    "rtns = saveBitMap.GetBitmapBits(True)\n",
    "print(rtns[:20])\n",
    "\n",
    "bmpinfo = saveBitMap.GetInfo()\n",
    "bmpstr = saveBitMap.GetBitmapBits(True)\n",
    "im = Image.frombuffer(\n",
    "    'RGB',\n",
    "    (bmpinfo['bmWidth'], bmpinfo['bmHeight']),\n",
    "    bmpstr, 'raw', 'BGRX', 0, 1)\n",
    "im.save(\"test2.jpg\", quality=30)\n",
    "\n",
    "# bmp = Image.frombytes('RGBA', (saveBitMap.GetInfo()['bmWidth'], saveBitMap.GetInfo()['bmHeight']), rtns)"
   ]
  },
  {
   "cell_type": "code",
   "execution_count": 45,
   "metadata": {},
   "outputs": [
    {
     "data": {
      "text/plain": [
       "object 'PyCBitmap' - assoc is 000001F8AF958808, vi=<None>"
      ]
     },
     "execution_count": 45,
     "metadata": {},
     "output_type": "execute_result"
    }
   ],
   "source": [
    "MoniterDev = win32api.EnumDisplayMonitors(None, None)\n",
    "w, h = MoniterDev[0][2][2: 4]\n",
    "# h = MoniterDev[0][2][3]\n",
    "\n",
    "\n",
    "saveDC.SelectObject(saveBitMap)"
   ]
  },
  {
   "cell_type": "code",
   "execution_count": 46,
   "metadata": {},
   "outputs": [],
   "source": [
    "saveDC.BitBlt((0, 0), (w, h), mfcDC, (0, 0), win32con.SRCCOPY)"
   ]
  },
  {
   "cell_type": "code",
   "execution_count": 47,
   "metadata": {},
   "outputs": [],
   "source": [
    "saveBitMap.SaveBitmapFile(saveDC, \"test.jpg\")"
   ]
  },
  {
   "cell_type": "code",
   "execution_count": 48,
   "metadata": {},
   "outputs": [
    {
     "ename": "AttributeError",
     "evalue": "'PyCDC' object has no attribute 'GetInfo'",
     "output_type": "error",
     "traceback": [
      "\u001b[1;31m---------------------------------------------------------------------------\u001b[0m",
      "\u001b[1;31mAttributeError\u001b[0m                            Traceback (most recent call last)",
      "\u001b[1;32m~\\AppData\\Local\\Temp\\ipykernel_3372\\4178273872.py\u001b[0m in \u001b[0;36m<module>\u001b[1;34m\u001b[0m\n\u001b[1;32m----> 1\u001b[1;33m \u001b[0mbmpinfo\u001b[0m \u001b[1;33m=\u001b[0m \u001b[0msaveDC\u001b[0m\u001b[1;33m.\u001b[0m\u001b[0mGetInfo\u001b[0m\u001b[1;33m(\u001b[0m\u001b[1;33m)\u001b[0m\u001b[1;33m\u001b[0m\u001b[1;33m\u001b[0m\u001b[0m\n\u001b[0m\u001b[0;32m      2\u001b[0m \u001b[0mbmpstr\u001b[0m \u001b[1;33m=\u001b[0m \u001b[0msaveDC\u001b[0m\u001b[1;33m.\u001b[0m\u001b[0mGetBitmapBits\u001b[0m\u001b[1;33m(\u001b[0m\u001b[1;32mTrue\u001b[0m\u001b[1;33m)\u001b[0m\u001b[1;33m\u001b[0m\u001b[1;33m\u001b[0m\u001b[0m\n\u001b[0;32m      3\u001b[0m im = Image.frombuffer(\n\u001b[0;32m      4\u001b[0m     \u001b[1;34m'RGB'\u001b[0m\u001b[1;33m,\u001b[0m\u001b[1;33m\u001b[0m\u001b[1;33m\u001b[0m\u001b[0m\n\u001b[0;32m      5\u001b[0m     \u001b[1;33m(\u001b[0m\u001b[0mbmpinfo\u001b[0m\u001b[1;33m[\u001b[0m\u001b[1;34m'bmWidth'\u001b[0m\u001b[1;33m]\u001b[0m\u001b[1;33m,\u001b[0m \u001b[0mbmpinfo\u001b[0m\u001b[1;33m[\u001b[0m\u001b[1;34m'bmHeight'\u001b[0m\u001b[1;33m]\u001b[0m\u001b[1;33m)\u001b[0m\u001b[1;33m,\u001b[0m\u001b[1;33m\u001b[0m\u001b[1;33m\u001b[0m\u001b[0m\n",
      "\u001b[1;31mAttributeError\u001b[0m: 'PyCDC' object has no attribute 'GetInfo'"
     ]
    }
   ],
   "source": [
    "bmpinfo = saveDC.GetInfo()\n",
    "bmpstr = saveDC.GetBitmapBits(True)\n",
    "im = Image.frombuffer(\n",
    "    'RGB',\n",
    "    (bmpinfo['bmWidth'], bmpinfo['bmHeight']),\n",
    "    bmpstr, 'raw', 'BGRX', 0, 1)\n",
    "\n",
    "im.save(\"test2.jpg\", quality=30)"
   ]
  },
  {
   "cell_type": "code",
   "execution_count": null,
   "metadata": {},
   "outputs": [],
   "source": []
  }
 ],
 "metadata": {
  "kernelspec": {
   "display_name": "Python 3.9.13 ('base')",
   "language": "python",
   "name": "python3"
  },
  "language_info": {
   "codemirror_mode": {
    "name": "ipython",
    "version": 3
   },
   "file_extension": ".py",
   "mimetype": "text/x-python",
   "name": "python",
   "nbconvert_exporter": "python",
   "pygments_lexer": "ipython3",
   "version": "3.9.13"
  },
  "orig_nbformat": 4,
  "vscode": {
   "interpreter": {
    "hash": "ad2bdc8ecc057115af97d19610ffacc2b4e99fae6737bb82f5d7fb13d2f2c186"
   }
  }
 },
 "nbformat": 4,
 "nbformat_minor": 2
}
